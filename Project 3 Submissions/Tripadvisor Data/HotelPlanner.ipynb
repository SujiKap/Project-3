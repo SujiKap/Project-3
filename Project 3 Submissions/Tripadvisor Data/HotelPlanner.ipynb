{
 "cells": [
  {
   "cell_type": "code",
   "execution_count": 1,
   "metadata": {},
   "outputs": [],
   "source": [
    " # Dependencies\n",
    "from bs4 import BeautifulSoup as bs\n",
    "import requests\n",
    "import pymongo\n",
    "from splinter import Browser\n",
    "from bs4 import BeautifulSoup\n",
    "import os\n",
    "import pandas as pd\n",
    "import time"
   ]
  },
  {
   "cell_type": "code",
   "execution_count": 2,
   "metadata": {},
   "outputs": [],
   "source": [
    "executable_path = {'executable_path': r\"C:\\Users\\kapali_s\\Documents\\SMU\\chromedriver.exe\"}\n",
    "browser = Browser('chrome', **executable_path, headless=False)"
   ]
  },
  {
   "cell_type": "code",
   "execution_count": 3,
   "metadata": {},
   "outputs": [],
   "source": [
    "#Url of the page to be scraped\n",
    "url = 'https://www.hotelplanner.com/zip/Dallas-TX-hotels-in-75201'\n",
    "\n",
    "browser.visit(url)\n",
    "time.sleep(1)\n",
    "html = browser.html\n",
    "#Create BeautifulSoup object; parse \n",
    "soup = bs(html, 'lxml')"
   ]
  },
  {
   "cell_type": "code",
   "execution_count": 4,
   "metadata": {
    "scrolled": true
   },
   "outputs": [],
   "source": [
    "#Extract name\n",
    "# hotel = soup.find('a', class_='hotel-name').text\n",
    "# print(hotel)"
   ]
  },
  {
   "cell_type": "code",
   "execution_count": 5,
   "metadata": {},
   "outputs": [],
   "source": [
    "containing_div = soup.findAll('div', class_='hotel-rates')"
   ]
  },
  {
   "cell_type": "markdown",
   "metadata": {},
   "source": [
    "# Address"
   ]
  },
  {
   "cell_type": "code",
   "execution_count": 6,
   "metadata": {},
   "outputs": [],
   "source": [
    "containing_div = soup.findAll('span', class_='address')"
   ]
  },
  {
   "cell_type": "code",
   "execution_count": 7,
   "metadata": {},
   "outputs": [
    {
     "data": {
      "text/plain": [
       "50"
      ]
     },
     "execution_count": 7,
     "metadata": {},
     "output_type": "execute_result"
    }
   ],
   "source": [
    "len(containing_div)"
   ]
  },
  {
   "cell_type": "code",
   "execution_count": 8,
   "metadata": {
    "scrolled": false
   },
   "outputs": [
    {
     "name": "stdout",
     "output_type": "stream",
     "text": [
      " 1717 North Akard, Dallas, TX 75201 \n",
      " 1717 Leonard St., Dallas, TX 75201 \n",
      " 650 North Pearl St., Dallas, TX 75201 \n",
      " 400 Olive St., Dallas, TX 75201 \n",
      " 1600 Pacific Ave., Dallas, TX 75201 \n",
      " 1907 Elm St., Dallas, TX 75201 \n",
      " 2323 Field St., Dallas, TX 75201 \n",
      " 2121 Mckinney Ave., Dallas, TX 75201 \n",
      " 1933 Main St., Dallas, TX 75201 \n",
      " 1530 Main St., Dallas, TX 75201 \n",
      " 2332 Leonard St., Dallas, TX 75201 \n",
      " 1401 Commerce St., Dallas, TX 75201 \n",
      " 1700 Commerce St., Dallas, TX 75201 \n",
      " 1712 Commerce St., Dallas, TX 75201 \n",
      " 400 Crescent Court, Dallas, TX 75201 \n",
      " 2516 Maple Ave., Dallas, TX 75201 \n",
      " 555 Evergreen St., Dallas, TX 75201 \n",
      " 2914 Harry Hines Blvd., Dallas, TX 75201 \n",
      " 2927 Maple Ave., Dallas, TX 75201 \n",
      " 1025 Elm St., Dallas, TX 75202 \n",
      " 1201 Main St., Dallas, TX 75202 \n",
      " 1321 Commerce St., Dallas, TX 75202 \n",
      " 1907 North Lamar St., Dallas, TX 75202 \n",
      " 2440 Victory Park Ln, Dallas, TX 75219 \n",
      " 1033 Young St., Dallas, TX 75202 \n",
      " 555 South Lamar, Dallas, TX 75202 \n",
      " 302 South Houston St., Dallas, TX 75202 \n",
      " 310 South Houston St., Dallas, TX 75202 \n",
      " 2717 Howell St., Dallas, TX 75204 \n",
      " 300 Reunion Blvd., Dallas, TX 75207 \n",
      " 1011 South Akard St., Dallas, TX 75215 \n",
      " 2821 Turtle Creek Blvd., 2821 Turtle Creek Blvd., TX 75219 \n",
      " 4005 Gaston Ave., Dallas, TX 75246 \n",
      " 2901 Cityplace West Blvd., Dallas, TX 75204 \n",
      " 1325 South Lamar St., Dallas, TX 75215 \n",
      " 1445 Turtle Creek Blvd., Dallas, TX 75207 \n",
      " 3015 Oak Lawn Ave., Dallas, TX 75219 \n",
      " 2026 Market Center, Dallas, TX 75207 \n",
      " 2023 Market Center Blvd., Dallas, TX 75207-3318 \n",
      " 2110 Market Center Blvd., Dallas, TX 75207 \n",
      " 2015 Market Center Blvd., Dallas, TX 75207 \n",
      " 2150 Market Center Blvd., Dallas, TX 75207 \n",
      " 2101 North Stemmons Freeway, Dallas, TX 75207 \n",
      " 2201 North Stemmons Freeway, Dallas, TX 75207 \n",
      " 4150 North Central Expressway, Dallas, TX 75204-2131 \n",
      " 4500 Harry Hines Blvd., Dallas, TX 75219 \n",
      " 2222 Stemmons Freeway, Dallas, TX 75207 \n",
      " 2325 North Stemmons Freeway, Dallas, TX 75207 \n",
      " 4440 North Cental, Dallas, TX 75206 \n",
      " 901 Fort Worth Ave., Dallas, TX 75208 \n"
     ]
    }
   ],
   "source": [
    "for r in containing_div:\n",
    "    print(r.text)\n",
    "    #print(soup.find('div', class_='hotel-rates').text)\n",
    "#     print(soup.find('span',class_='address').text)"
   ]
  },
  {
   "cell_type": "code",
   "execution_count": 9,
   "metadata": {},
   "outputs": [],
   "source": [
    "r = []\n"
   ]
  },
  {
   "cell_type": "markdown",
   "metadata": {},
   "source": [
    "#  Hotel Name"
   ]
  },
  {
   "cell_type": "code",
   "execution_count": 10,
   "metadata": {},
   "outputs": [],
   "source": [
    "containing_div = soup.findAll('a', class_='hotel-name')"
   ]
  },
  {
   "cell_type": "code",
   "execution_count": 11,
   "metadata": {},
   "outputs": [
    {
     "data": {
      "text/plain": [
       "50"
      ]
     },
     "execution_count": 11,
     "metadata": {},
     "output_type": "execute_result"
    }
   ],
   "source": [
    "len(containing_div)"
   ]
  },
  {
   "cell_type": "code",
   "execution_count": 12,
   "metadata": {},
   "outputs": [
    {
     "name": "stdout",
     "output_type": "stream",
     "text": [
      "The Fairmont Dallas\n",
      "Hall Arts Hotel\n",
      "Dallas Marriott City Center\n",
      "Sheraton Dallas Hotel : 400 Olive St.\n",
      "Hilton Garden Inn Downtown Dallas in Dallas\n",
      "Cambria Dallas\n",
      "Oakwood at Northend\n",
      "The Ritz Carlton Dallas\n",
      "Hotel Indigo Dallas Downtown\n",
      "The Joule - Dallas\n",
      "Hotel Zaza Dallas in Dallas\n",
      "Magnolia Hotel Dallas - Dallas\n",
      "Hampton Inn & Suites Dallas Downtown\n",
      "AC Hotel by Marriott Dallas Downtown in Dallas\n",
      "Hotel Crescent Court in Dallas\n",
      "Hotel St. Germain\n",
      "Fairfield Inn & Suites by Marriott Dallas Downtown : 555 Evergreen St.\n",
      "Hyatt House Dallas Uptown : 2914 Harry Hines Blvd.\n",
      "Le Meridien Dallas The Stoneleigh : 2927 Maple Ave.\n",
      "Homewood Suites Dallas Downtown\n",
      "Westin Dallas Downtown\n",
      "The Adolphus Autograph Collection in Dallas\n",
      "Springhill Suites Dallas Downtown / West End in Dallas\n",
      "W Hotel Dallas : 2440 Victory Park Ln\n",
      "Aloft Dallas Downtown\n",
      "Omni Dallas Hotel : 555 South Lamar\n",
      "La Quinta Inns & Suites Dallas Downtown by Wyndham in Dallas\n",
      "Courtyard by Marriott Downtown Dallas : 310 South Houston St.\n",
      "Guild Uptown\n",
      "Hyatt Regency Dallas\n",
      "Lorenzo Hotel\n",
      "Rosewood Mansion on Turtle Creek : 2821 Turtle Creek Blvd.\n",
      "Element by Westin Dallas Downtown East Opening 2019 : 4005 Gaston Ave.\n",
      "Oakwood Dallas Uptown\n",
      "Canvas Hotel Dallas in Dallas\n",
      "Virgin Hotels Dallas - Dallas\n",
      "Warwick Melrose Dallas : 3015 Oak Lawn Ave.\n",
      "Days Inn Market Center - Dallas\n",
      "Best Western Market Center - Dallas\n",
      "Fairfield Inn & Suites by Marriott Market Center\n",
      "Doubletree by Hilton Market Center\n",
      "Courtyard Market Center Dallas\n",
      "Sheraton Market Center Dallas\n",
      "Hilton Anatole\n",
      "Best Western Cityplace Inn in Dallas\n",
      "Holiday Inn Dallas Market Center\n",
      "Renaissance Dallas Hotel : 2222 Stemmons Freeway\n",
      "Hilton Garden Inn Dallas Market Center\n",
      "La Quinta by Wyndham : 4440 North Cental\n",
      "Belmont Hotel\n"
     ]
    }
   ],
   "source": [
    "for r in containing_div:\n",
    "    print(r.text)\n",
    "    #print(soup.find('div', class_='hotel-rates').text)\n",
    "#     print(soup.find('span',class_='address').text)"
   ]
  },
  {
   "cell_type": "markdown",
   "metadata": {},
   "source": [
    "# Scores"
   ]
  },
  {
   "cell_type": "code",
   "execution_count": 13,
   "metadata": {},
   "outputs": [],
   "source": [
    "containing_div = soup.findAll('span', class_='review-score')"
   ]
  },
  {
   "cell_type": "code",
   "execution_count": 14,
   "metadata": {},
   "outputs": [
    {
     "data": {
      "text/plain": [
       "45"
      ]
     },
     "execution_count": 14,
     "metadata": {},
     "output_type": "execute_result"
    }
   ],
   "source": [
    "len(containing_div)"
   ]
  },
  {
   "cell_type": "code",
   "execution_count": 15,
   "metadata": {
    "scrolled": true
   },
   "outputs": [
    {
     "name": "stdout",
     "output_type": "stream",
     "text": [
      "Very Good 4.0 /5\n",
      "Very Good 4.0 /5\n",
      "Very Good 4.0 /5\n",
      "Very Good 4.0 /5\n",
      "Very Good 4.0 /5\n",
      "Very Good 4.5 /5\n",
      "Very Good 4.0 /5\n",
      "Very Good 4.5 /5\n",
      "Very Good 4.5 /5\n",
      "Very Good 4.5 /5\n",
      "Very Good 4.5 /5\n",
      "Very Good 4.5 /5\n",
      "Very Good 4.5 /5\n",
      "Poor 2.5 /5\n",
      "Very Good 4.0 /5\n",
      "Very Good 4.0 /5\n",
      "Very Good 4.5 /5\n",
      "Very Good 4.5 /5\n",
      "Very Good 4.5 /5\n",
      "Very Good 4.0 /5\n",
      "Very Good 4.0 /5\n",
      "Very Good 4.0 /5\n",
      "Very Good 4.5 /5\n",
      "Average 3.5 /5\n",
      "Very Good 4.5 /5\n",
      "Very Good 4.5 /5\n",
      "Very Good 4.0 /5\n",
      "Very Good 4.0 /5\n",
      "Very Good 4.5 /5\n",
      "Average 3.5 /5\n",
      "Very Good 4.0 /5\n",
      "Very Good 4.5 /5\n",
      "Very Good 4.0 /5\n",
      "Average 3.5 /5\n",
      "Average 3.5 /5\n",
      "Very Good 4.0 /5\n",
      "Very Good 4.0 /5\n",
      "Very Good 4.0 /5\n",
      "Very Good 4.0 /5\n",
      "Very Good 4.0 /5\n",
      "Average 3.5 /5\n",
      "Very Good 4.0 /5\n",
      "Very Good 4.0 /5\n",
      "Average 3.5 /5\n",
      "Very Good 4.0 /5\n"
     ]
    }
   ],
   "source": [
    "for r in containing_div:\n",
    "    print(r.text)\n",
    "    #print(soup.find('div', class_='hotel-rates').text)\n",
    "#     print(soup.find('span',class_='address').text)"
   ]
  },
  {
   "cell_type": "code",
   "execution_count": 16,
   "metadata": {
    "scrolled": true
   },
   "outputs": [],
   "source": [
    "# #Extract address\n",
    "# add = soup.find('span', class_='address').text\n",
    "# print(add)"
   ]
  },
  {
   "cell_type": "code",
   "execution_count": 17,
   "metadata": {},
   "outputs": [
    {
     "name": "stdout",
     "output_type": "stream",
     "text": [
      "From$109\n",
      "From$90\n",
      "From$125\n",
      "From$99\n",
      "From$83\n",
      "From$79\n",
      "From$90\n",
      "From$200\n",
      "From$97\n",
      "From$199\n",
      "From$195\n",
      "From$109\n",
      "From$109\n",
      "From$129\n",
      "From$199\n",
      "From$90\n",
      "From$89\n",
      "From$129\n",
      "From$175\n",
      "From$110\n",
      "From$159\n",
      "From$160\n",
      "From$99\n",
      "From$189\n",
      "From$109\n",
      "From$129\n",
      "From$84\n",
      "From$99\n",
      "From$90\n",
      "From$109\n",
      "From$129\n",
      "From$225\n",
      "From$89\n",
      "From$90\n",
      "From$75\n",
      "From$90\n",
      "From$110\n",
      "From$59\n",
      "From$75\n",
      "From$129\n",
      "From$79\n",
      "From$79\n",
      "From$107\n",
      "From$75\n",
      "From$68\n",
      "From$60\n",
      "From$104\n",
      "From$67\n",
      "From$65\n",
      "From$70\n"
     ]
    }
   ],
   "source": [
    "#Rates\n",
    "containing_div = soup.findAll('div', class_='price')\n",
    "for r in containing_div:\n",
    "    print(r.text)\n",
    "    #print(soup.find('div', class_='hotel-rates').text\n"
   ]
  },
  {
   "cell_type": "markdown",
   "metadata": {},
   "source": [
    "# Addison Hotels"
   ]
  },
  {
   "cell_type": "code",
   "execution_count": 18,
   "metadata": {},
   "outputs": [
    {
     "name": "stdout",
     "output_type": "stream",
     "text": [
      " 4960 Arapaho Rd., Addison, TX 75001 Website \n",
      " 4900 Edwin Lewis Dr., Addison, TX 75001 \n",
      " 15255 Quorum Dr., Addison, TX 75001 \n",
      " 15200 Addison Rd., Addison, TX 75001 \n",
      " 15160 Quorum Dr., Addison, TX 75001 \n",
      " 15201 Dallas Pkwy., Addison, TX 75001 \n",
      " 4875 Belt Line Rd., Addison, TX 75254 \n",
      " 4555 Belt Line Rd., Addison, TX 75001 Website \n",
      " 4451 Beltline Rd., Addison, TX 75001 \n",
      " 14975 Landmark Blvd., Dallas, TX 75254-6709 Website \n",
      " 16060 Dallas Pkwy., Dallas, TX 75248 \n",
      " 14960 Landmark Blvd., Addison, TX 75254 \n",
      " 4325 Beltline Rd., Addison, TX 75001 \n",
      " 14925 Landmark Blvd., Dallas, TX 75240 \n",
      " 14975 Quorum Dr., Dallas, TX 75254 \n",
      " 4505 Beltway Dr., Addison, TX 75001 Website \n",
      " 14901 Dallas Pkwy., Dallas, TX 75254 \n",
      " 4355 Beltway Dr., Addison, TX 75001 \n",
      " 4103 Belt Line Rd., Addison, TX 75001 \n",
      " 4150 Beltway Dr., Addison, TX 75001 \n",
      " 4090 Beltline Rd., Addison, TX 75001 \n",
      " 4005 Beltline Rd., Addison, TX 75001 \n",
      " 4165 Proton Dr., Addison, TX 75001 \n",
      " 14315 Midway Rd., Addison, TX 75001 \n",
      " 3 Rue Rouget De Lisle, Paris, 75001 France \n"
     ]
    }
   ],
   "source": [
    "#Url of the page to be scraped\n",
    "url = 'https://www.hotelplanner.com/Hotels/3432-in-Addison-TX.html'\n",
    "\n",
    "browser.visit(url)\n",
    "time.sleep(1)\n",
    "html = browser.html\n",
    "#Create BeautifulSoup object; parse \n",
    "soup = bs(html, 'lxml')\n",
    "\n",
    "containing_div = soup.findAll('span', class_='address')\n",
    "\n",
    "for r in containing_div:\n",
    "    print(r.text)\n",
    "    #print(soup.find('div', class_='hotel-rates').text)\n",
    "#     print(soup.find('span',class_='address').text)\n",
    "\n"
   ]
  },
  {
   "cell_type": "code",
   "execution_count": 19,
   "metadata": {
    "scrolled": true
   },
   "outputs": [
    {
     "name": "stdout",
     "output_type": "stream",
     "text": [
      "Radisson Hotel Dallas North Addison. : 4960 Arapaho Rd.\n",
      "Hyatt House Dallas / Addison\n",
      "Springhill Suites Addison - Addison\n",
      "3 Airbnb's Nearby\n",
      "Hawthorn Suites by Wyndham Addison Galleria - Addison\n",
      "Courtyard by Marriott Addison / Quorum : 15160 Quorum Dr.\n",
      "Renaissance Dallas Addison\n",
      "Home2 Suites by Hilton Dallas Addison in Addison\n",
      "Quality Suites - Addison\n",
      "Homewood Suites by Hilton Dallas Addison : 4451 Beltline Rd.\n",
      "Best Western Plus Addison / Dallas Hotel\n",
      "Staybridge Addison\n",
      "Holiday Inn Express & Suites Dallas North Addison in Addison\n",
      "Motel 6 Dallas Addison #1125 - Addison\n",
      "La Quinta Inn & Suites Dallas Addison Galleria by Wyndham in Dallas\n",
      "Residence Inn by Marriott Addison : 14975 Quorum Dr.\n",
      "Hampton Inn Dallas / Addison Galleria - Addison\n",
      "Marriott Quorum Dallas / Addison\n",
      "Holiday Inn Express & Suites Dallas Addison in Addison\n",
      "Red Roof Inn & Suites Addison in Addison\n",
      "Super 8 by The Galleria / North Dallas : 4150 Beltway Dr.\n",
      "Hilton Garden Inn Dallas / Addison\n",
      "Americas Best Value Inn Addison / Dallas in Addison\n",
      "Courtyard by Marriott Addison Midway - Addison\n",
      "Crowne Plaza Near The Galleria Addison in Addison\n",
      "Mayfair in Paris\n"
     ]
    }
   ],
   "source": [
    "containing_div = soup.findAll('a', class_='hotel-name')\n",
    "\n",
    "for r in containing_div:\n",
    "    print(r.text)\n",
    "    #print(soup.find('div', class_='hotel-rates').text)\n",
    "#     print(soup.find('span',class_='address').text)\n",
    "\n",
    "\n"
   ]
  },
  {
   "cell_type": "code",
   "execution_count": 20,
   "metadata": {
    "scrolled": true
   },
   "outputs": [
    {
     "name": "stdout",
     "output_type": "stream",
     "text": [
      "Very Good 4.0 /5\n",
      "Very Good 4.0 /5\n",
      "Very Good 4.0 /5\n",
      "Average 3.5 /5\n",
      "Very Good 4.0 /5\n",
      "Average 3.0 /5\n",
      "Very Good 4.5 /5\n",
      "Very Good 4.0 /5\n",
      "Very Good 4.0 /5\n",
      "Very Good 4.0 /5\n",
      "Very Good 4.0 /5\n",
      "Very Good 4.5 /5\n",
      "Average 3.5 /5\n",
      "Very Good 4.0 /5\n",
      "Very Good 4.5 /5\n",
      "Very Good 4.0 /5\n",
      "Very Good 4.5 /5\n",
      "Average 3.5 /5\n",
      "Very Good 4.0 /5\n",
      "Poor 2.5 /5\n",
      "Very Good 4.0 /5\n",
      "Poor 2.0 /5\n",
      "Very Good 4.5 /5\n",
      "Average 3.5 /5\n",
      "Very Good 4.0 /5\n"
     ]
    }
   ],
   "source": [
    "containing_div = soup.findAll('span', class_='review-score')\n",
    "\n",
    "for r in containing_div:\n",
    "    print(r.text)\n",
    "    #print(soup.find('div', class_='hotel-rates').text)\n",
    "#     print(soup.find('span',class_='address').text)\n",
    "\n"
   ]
  },
  {
   "cell_type": "code",
   "execution_count": 21,
   "metadata": {},
   "outputs": [
    {
     "name": "stdout",
     "output_type": "stream",
     "text": [
      "From$50\n",
      "From$89\n",
      "From$79\n",
      "From$29\n",
      "From$80\n",
      "From$89\n",
      "From$109\n",
      "From$84\n",
      "From$49\n",
      "From$80\n",
      "From$55\n",
      "From$79\n",
      "From$79\n",
      "From$60\n",
      "From$63\n",
      "From$109\n",
      "From$66\n",
      "From$99\n",
      "From$60\n",
      "From$64\n",
      "From$60\n",
      "From$57\n",
      "From$60\n",
      "From$69\n",
      "From$69\n",
      "From$200\n"
     ]
    }
   ],
   "source": [
    "#Rates\n",
    "containing_div = soup.findAll('div', class_='price')\n",
    "for r in containing_div:\n",
    "    print(r.text)\n",
    "    #print(soup.find('div', class_='hotel-rates').text"
   ]
  }
 ],
 "metadata": {
  "kernelspec": {
   "display_name": "Python 3",
   "language": "python",
   "name": "python3"
  },
  "language_info": {
   "codemirror_mode": {
    "name": "ipython",
    "version": 3
   },
   "file_extension": ".py",
   "mimetype": "text/x-python",
   "name": "python",
   "nbconvert_exporter": "python",
   "pygments_lexer": "ipython3",
   "version": "3.7.1"
  }
 },
 "nbformat": 4,
 "nbformat_minor": 2
}
