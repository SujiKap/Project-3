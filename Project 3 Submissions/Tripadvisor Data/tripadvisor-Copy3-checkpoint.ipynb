{
 "cells": [
  {
   "cell_type": "code",
   "execution_count": 1,
   "metadata": {},
   "outputs": [],
   "source": [
    "from bs4 import BeautifulSoup\n",
    "import requests\n",
    "import pandas as pd\n",
    "import bs4\n",
    "\n",
    "headers={'User-Agent': 'Mozilla/5.0 (iPad; U; CPU OS 3_2_1 like Mac OS X; en-us) AppleWebKit/531.21.10 (KHTML, like Gecko) Mobile/7B405'}\n"
   ]
  },
  {
   "cell_type": "code",
   "execution_count": 2,
   "metadata": {},
   "outputs": [],
   "source": [
    "url = 'https://www.tripadvisor.com/Hotels-g55711-Dallas_Texas-Hotels.html'\n",
    "\n",
    "session = requests.get(url, headers=headers)\n",
    "page = bs4.BeautifulSoup(session.text, \"html.parser\")\n",
    "\n",
    "containing_div = page.find('div', id='taplc_hsx_hotel_list_lite_dusty_hotels_combined_sponsored_0')"
   ]
  },
  {
   "cell_type": "code",
   "execution_count": 3,
   "metadata": {},
   "outputs": [],
   "source": [
    "# grab Hotel names from page\n",
    "hotels = []\n",
    "\n",
    "for div in containing_div.find_all('div', class_='listing-title'):\n",
    "    hotels.append(div.find('a', class_='property_title').text)\n",
    "   "
   ]
  },
  {
   "cell_type": "code",
   "execution_count": 4,
   "metadata": {},
   "outputs": [
    {
     "data": {
      "text/plain": [
       "['Lorenzo Hotel',\n",
       " 'Hyatt Regency Dallas',\n",
       " 'La Quinta Inn & Suites by Wyndham Dallas - Addison Galleria',\n",
       " 'Magnolia Hotel Dallas-Park Cities',\n",
       " 'Hyatt Regency DFW',\n",
       " 'Fairmont Dallas',\n",
       " 'Hotel Indigo Dallas Downtown',\n",
       " 'Hampton Inn & Suites Dallas Downtown',\n",
       " 'Hotel Indigo Dallas Downtown',\n",
       " 'The Westin Dallas Park Central',\n",
       " 'Omni Dallas Hotel',\n",
       " 'La Quinta Inn & Suites by Wyndham Dallas Love Field',\n",
       " 'Magnolia Hotel Dallas Downtown',\n",
       " 'Omni Dallas Hotel at Park West',\n",
       " 'Cooper Hotel Conference Center & Spa',\n",
       " 'Warwick Melrose - Dallas',\n",
       " 'Days Inn by Wyndham Market Center Dallas Love Field',\n",
       " 'Hyatt Place Dallas / Park Central',\n",
       " 'The Guild Uptown',\n",
       " 'AC Hotel by Marriott Dallas Downtown',\n",
       " 'Canvas Hotel Dallas',\n",
       " 'Hotel ZaZa Dallas',\n",
       " 'Grand Hyatt DFW',\n",
       " 'Guild Victory Park',\n",
       " 'The Highland Dallas, Curio Collection by Hilton',\n",
       " 'Candlewood Suites - Dallas Market Center',\n",
       " 'Hotel Crescent Court',\n",
       " 'The Joule, Dallas',\n",
       " 'Residence Inn by Marriott Dallas Downtown',\n",
       " 'The Lumen',\n",
       " 'Hilton Garden Inn Downtown Dallas',\n",
       " 'W Dallas - Victory']"
      ]
     },
     "execution_count": 4,
     "metadata": {},
     "output_type": "execute_result"
    }
   ],
   "source": [
    "hotels"
   ]
  },
  {
   "cell_type": "code",
   "execution_count": 5,
   "metadata": {},
   "outputs": [],
   "source": [
    "# grab Hotel prices from page\n",
    "prices = []\n",
    "for div in containing_div.find_all('div', class_='price-wrap'):\n",
    "    for price in div.find_all('div', class_='price'):\n",
    "        prices.append(price.text)\n",
    "        "
   ]
  },
  {
   "cell_type": "code",
   "execution_count": 6,
   "metadata": {},
   "outputs": [
    {
     "data": {
      "text/plain": [
       "['$119',\n",
       " '$138',\n",
       " '$72',\n",
       " '$109',\n",
       " '$143',\n",
       " '$143',\n",
       " '$119',\n",
       " '$98',\n",
       " '$135',\n",
       " '$84',\n",
       " '$197',\n",
       " '$89',\n",
       " '$138',\n",
       " '$116',\n",
       " '$134',\n",
       " '$138',\n",
       " '$76',\n",
       " '$76',\n",
       " '$123',\n",
       " '$109',\n",
       " '$142',\n",
       " '$230',\n",
       " '$204',\n",
       " '$147',\n",
       " '$134',\n",
       " '$77',\n",
       " '$229',\n",
       " '$219',\n",
       " '$149',\n",
       " '$129',\n",
       " '$156',\n",
       " '$199']"
      ]
     },
     "execution_count": 6,
     "metadata": {},
     "output_type": "execute_result"
    }
   ],
   "source": [
    "prices"
   ]
  },
  {
   "cell_type": "code",
   "execution_count": 7,
   "metadata": {},
   "outputs": [
    {
     "data": {
      "text/plain": [
       "32"
      ]
     },
     "execution_count": 7,
     "metadata": {},
     "output_type": "execute_result"
    }
   ],
   "source": [
    "len(prices)"
   ]
  },
  {
   "cell_type": "code",
   "execution_count": 8,
   "metadata": {
    "scrolled": true
   },
   "outputs": [
    {
     "data": {
      "text/html": [
       "<div>\n",
       "<style scoped>\n",
       "    .dataframe tbody tr th:only-of-type {\n",
       "        vertical-align: middle;\n",
       "    }\n",
       "\n",
       "    .dataframe tbody tr th {\n",
       "        vertical-align: top;\n",
       "    }\n",
       "\n",
       "    .dataframe thead th {\n",
       "        text-align: right;\n",
       "    }\n",
       "</style>\n",
       "<table border=\"1\" class=\"dataframe\">\n",
       "  <thead>\n",
       "    <tr style=\"text-align: right;\">\n",
       "      <th></th>\n",
       "      <th>hotel_name</th>\n",
       "      <th>room_price</th>\n",
       "    </tr>\n",
       "  </thead>\n",
       "  <tbody>\n",
       "    <tr>\n",
       "      <th>0</th>\n",
       "      <td>Lorenzo Hotel</td>\n",
       "      <td>$119</td>\n",
       "    </tr>\n",
       "    <tr>\n",
       "      <th>1</th>\n",
       "      <td>Hyatt Regency Dallas</td>\n",
       "      <td>$138</td>\n",
       "    </tr>\n",
       "    <tr>\n",
       "      <th>2</th>\n",
       "      <td>La Quinta Inn &amp; Suites by Wyndham Dallas - Add...</td>\n",
       "      <td>$72</td>\n",
       "    </tr>\n",
       "    <tr>\n",
       "      <th>3</th>\n",
       "      <td>Magnolia Hotel Dallas-Park Cities</td>\n",
       "      <td>$109</td>\n",
       "    </tr>\n",
       "    <tr>\n",
       "      <th>4</th>\n",
       "      <td>Hyatt Regency DFW</td>\n",
       "      <td>$143</td>\n",
       "    </tr>\n",
       "  </tbody>\n",
       "</table>\n",
       "</div>"
      ],
      "text/plain": [
       "                                          hotel_name room_price\n",
       "0                                      Lorenzo Hotel       $119\n",
       "1                               Hyatt Regency Dallas       $138\n",
       "2  La Quinta Inn & Suites by Wyndham Dallas - Add...        $72\n",
       "3                  Magnolia Hotel Dallas-Park Cities       $109\n",
       "4                                  Hyatt Regency DFW       $143"
      ]
     },
     "execution_count": 8,
     "metadata": {},
     "output_type": "execute_result"
    }
   ],
   "source": [
    "hotels_df = pd.DataFrame({'hotel_name': hotels, 'room_price': prices})\n",
    "hotels_df.head()"
   ]
  },
  {
   "cell_type": "code",
   "execution_count": 9,
   "metadata": {},
   "outputs": [],
   "source": [
    "hotels_df.to_csv(\"C:/Users/kapali_s/Documents/SMU/Projects/Project_3/Project 3 Submissions/Tripadvisor Data/fileOne2.csv\", index=False, header=True)"
   ]
  },
  {
   "cell_type": "markdown",
   "metadata": {},
   "source": [
    "# TO DO...MAKE A LOOP'd VERSION!"
   ]
  },
  {
   "cell_type": "code",
   "execution_count": 10,
   "metadata": {},
   "outputs": [],
   "source": [
    "urls = ['https://www.tripadvisor.com/Hotels-g30141-Addison_Texas-Hotels.html', \n",
    "        'https://www.tripadvisor.com/Hotels-g55711-Dallas_Texas-Hotels.html']\n",
    "\n",
    "all_hotels = []\n",
    "\n",
    "all_prices = []\n",
    "\n",
    "for url in urls:\n",
    "\n",
    "    session = requests.get(url, headers=headers)\n",
    "    page = bs4.BeautifulSoup(session.text, \"html.parser\")\n",
    "    containing_div = page.find('div', id='taplc_hsx_hotel_list_lite_dusty_hotels_combined_sponsored_0')\n",
    "    \n",
    "    # grab Hotel names from page\n",
    "    for div in containing_div.find_all('div', class_='listing-title'):\n",
    "        all_hotels.append(div.find('a', class_='property_title').text)\n",
    "        \n",
    "    # grab Hotel prices from page\n",
    "    for div in containing_div.find_all('div', class_='price-wrap'):\n",
    "        for price in div.find_all('div', class_='price'):\n",
    "            all_prices.append(price.text)"
   ]
  },
  {
   "cell_type": "code",
   "execution_count": null,
   "metadata": {},
   "outputs": [],
   "source": []
  },
  {
   "cell_type": "code",
   "execution_count": 11,
   "metadata": {
    "scrolled": true
   },
   "outputs": [
    {
     "data": {
      "text/html": [
       "<div>\n",
       "<style scoped>\n",
       "    .dataframe tbody tr th:only-of-type {\n",
       "        vertical-align: middle;\n",
       "    }\n",
       "\n",
       "    .dataframe tbody tr th {\n",
       "        vertical-align: top;\n",
       "    }\n",
       "\n",
       "    .dataframe thead th {\n",
       "        text-align: right;\n",
       "    }\n",
       "</style>\n",
       "<table border=\"1\" class=\"dataframe\">\n",
       "  <thead>\n",
       "    <tr style=\"text-align: right;\">\n",
       "      <th></th>\n",
       "      <th>hotel_name</th>\n",
       "      <th>room_price</th>\n",
       "    </tr>\n",
       "  </thead>\n",
       "  <tbody>\n",
       "    <tr>\n",
       "      <th>0</th>\n",
       "      <td>Lorenzo Hotel</td>\n",
       "      <td>$119</td>\n",
       "    </tr>\n",
       "    <tr>\n",
       "      <th>1</th>\n",
       "      <td>Hyatt Regency Dallas</td>\n",
       "      <td>$138</td>\n",
       "    </tr>\n",
       "    <tr>\n",
       "      <th>2</th>\n",
       "      <td>La Quinta Inn &amp; Suites by Wyndham Dallas - Add...</td>\n",
       "      <td>$72</td>\n",
       "    </tr>\n",
       "    <tr>\n",
       "      <th>3</th>\n",
       "      <td>Magnolia Hotel Dallas-Park Cities</td>\n",
       "      <td>$109</td>\n",
       "    </tr>\n",
       "    <tr>\n",
       "      <th>4</th>\n",
       "      <td>Hyatt Regency DFW</td>\n",
       "      <td>$143</td>\n",
       "    </tr>\n",
       "  </tbody>\n",
       "</table>\n",
       "</div>"
      ],
      "text/plain": [
       "                                          hotel_name room_price\n",
       "0                                      Lorenzo Hotel       $119\n",
       "1                               Hyatt Regency Dallas       $138\n",
       "2  La Quinta Inn & Suites by Wyndham Dallas - Add...        $72\n",
       "3                  Magnolia Hotel Dallas-Park Cities       $109\n",
       "4                                  Hyatt Regency DFW       $143"
      ]
     },
     "execution_count": 11,
     "metadata": {},
     "output_type": "execute_result"
    }
   ],
   "source": [
    "hotels_df = pd.DataFrame({'hotel_name': hotels, 'room_price': prices})\n",
    "hotels_df.head()"
   ]
  },
  {
   "cell_type": "code",
   "execution_count": 12,
   "metadata": {},
   "outputs": [],
   "source": [
    "hotels_df.to_csv(\"C:/Users/kapali_s/Documents/SMU/Projects/Project_3/Project 3 Submissions/Tripadvisor Data/fileOne.csv\", index=False, header=True)"
   ]
  }
 ],
 "metadata": {
  "kernelspec": {
   "display_name": "Python 3",
   "language": "python",
   "name": "python3"
  },
  "language_info": {
   "codemirror_mode": {
    "name": "ipython",
    "version": 3
   },
   "file_extension": ".py",
   "mimetype": "text/x-python",
   "name": "python",
   "nbconvert_exporter": "python",
   "pygments_lexer": "ipython3",
   "version": "3.7.1"
  }
 },
 "nbformat": 4,
 "nbformat_minor": 2
}
