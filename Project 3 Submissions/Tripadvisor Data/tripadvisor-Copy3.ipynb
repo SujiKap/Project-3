{
 "cells": [
  {
   "cell_type": "code",
   "execution_count": 58,
   "metadata": {},
   "outputs": [],
   "source": [
    "from bs4 import BeautifulSoup\n",
    "import requests\n",
    "import pandas as pd\n",
    "import bs4\n",
    "\n",
    "headers={'User-Agent': 'Mozilla/5.0 (iPad; U; CPU OS 3_2_1 like Mac OS X; en-us) AppleWebKit/531.21.10 (KHTML, like Gecko) Mobile/7B405'}\n"
   ]
  },
  {
   "cell_type": "code",
   "execution_count": 59,
   "metadata": {},
   "outputs": [],
   "source": [
    "i=1\n",
    "url = 'https://www.tripadvisor.com/Hotels-g55711-oa30-Dallas_Texas-Hotels.html' \n",
    "\n",
    "session = requests.get(url, headers=headers)\n",
    "page = bs4.BeautifulSoup(session.text, \"html.parser\")\n",
    "\n",
    "containing_div = page.find('div', id='taplc_hsx_hotel_list_lite_dusty_hotels_combined_sponsored_0')"
   ]
  },
  {
   "cell_type": "code",
   "execution_count": 60,
   "metadata": {},
   "outputs": [],
   "source": [
    "# grab Hotel names from page\n",
    "hotels = []\n",
    "\n",
    "for div in containing_div.find_all('div', class_='listing-title'):\n",
    "    hotels.append(div.find('a', class_='property_title').text)"
   ]
  },
  {
   "cell_type": "code",
   "execution_count": 61,
   "metadata": {},
   "outputs": [
    {
     "data": {
      "text/plain": [
       "['Baymont by Wyndham Dallas/ Love Field',\n",
       " 'Hyatt Regency Dallas',\n",
       " 'Hampton Inn & Suites Dallas Downtown',\n",
       " 'Canvas Hotel Dallas',\n",
       " 'Hotel ZaZa Dallas',\n",
       " 'W Dallas - Victory',\n",
       " 'Holiday Inn Dallas Market Center',\n",
       " 'Grand Hyatt DFW',\n",
       " 'Cooper Hotel Conference Center & Spa',\n",
       " 'The Joule, Dallas',\n",
       " 'The Highland Dallas, Curio Collection by Hilton',\n",
       " 'The Adolphus, Autograph Collection',\n",
       " 'The Lumen',\n",
       " 'Le Meridien Dallas, The Stoneleigh',\n",
       " 'DoubleTree by Hilton Hotel Dallas - Love Field',\n",
       " 'Canopy by Hilton Dallas Uptown',\n",
       " 'The Ritz-Carlton, Dallas',\n",
       " 'Homewood Suites by Hilton Dallas Downtown',\n",
       " 'The Westin Dallas Downtown',\n",
       " 'Dallas Marriott Downtown',\n",
       " 'Wyndham Dallas Suites - Park Central',\n",
       " 'Hyatt House Dallas/Uptown',\n",
       " 'La Quinta Inn & Suites by Wyndham Dallas North Central',\n",
       " 'Le Meridien Dallas by the Galleria',\n",
       " 'Home2 Suites by Hilton Dallas North Park',\n",
       " 'Aloft Dallas Love Field',\n",
       " 'Holiday Inn Express Hotel & Suites Dallas (Galleria Area)',\n",
       " 'Best Western Cityplace Inn',\n",
       " 'Homewood Suites by Hilton Dallas Park Central',\n",
       " 'Best Western Plus Dallas Hotel & Conference Center',\n",
       " 'Rosewood Mansion on Turtle Creek',\n",
       " 'Corinthian Bed & Breakfast']"
      ]
     },
     "execution_count": 61,
     "metadata": {},
     "output_type": "execute_result"
    }
   ],
   "source": [
    "hotels"
   ]
  },
  {
   "cell_type": "code",
   "execution_count": 62,
   "metadata": {},
   "outputs": [],
   "source": [
    "# grab Hotel prices from page\n",
    "prices = []\n",
    "for div in containing_div.find_all('div', class_='price-wrap'):\n",
    "    for price in div.find_all('div', class_='price'):\n",
    "        prices.append(price.text)\n",
    "        "
   ]
  },
  {
   "cell_type": "code",
   "execution_count": 63,
   "metadata": {},
   "outputs": [
    {
     "data": {
      "text/plain": [
       "['$85',\n",
       " '$147',\n",
       " '$98',\n",
       " '$132',\n",
       " '$230',\n",
       " '$249',\n",
       " '$77',\n",
       " '$204',\n",
       " '$155',\n",
       " '$249',\n",
       " '$151',\n",
       " '$239',\n",
       " '$129',\n",
       " '$172',\n",
       " '$127',\n",
       " '$178',\n",
       " '$305',\n",
       " '$143',\n",
       " '$134',\n",
       " '$170',\n",
       " '$76',\n",
       " '$97',\n",
       " '$82',\n",
       " '$118',\n",
       " '$98',\n",
       " '$116',\n",
       " '$63',\n",
       " '$85',\n",
       " '$105',\n",
       " '$84',\n",
       " '$387',\n",
       " '$149']"
      ]
     },
     "execution_count": 63,
     "metadata": {},
     "output_type": "execute_result"
    }
   ],
   "source": [
    "prices"
   ]
  },
  {
   "cell_type": "code",
   "execution_count": 64,
   "metadata": {},
   "outputs": [
    {
     "data": {
      "text/plain": [
       "32"
      ]
     },
     "execution_count": 64,
     "metadata": {},
     "output_type": "execute_result"
    }
   ],
   "source": [
    "len(prices)"
   ]
  },
  {
   "cell_type": "code",
   "execution_count": 65,
   "metadata": {
    "scrolled": true
   },
   "outputs": [
    {
     "data": {
      "text/html": [
       "<div>\n",
       "<style scoped>\n",
       "    .dataframe tbody tr th:only-of-type {\n",
       "        vertical-align: middle;\n",
       "    }\n",
       "\n",
       "    .dataframe tbody tr th {\n",
       "        vertical-align: top;\n",
       "    }\n",
       "\n",
       "    .dataframe thead th {\n",
       "        text-align: right;\n",
       "    }\n",
       "</style>\n",
       "<table border=\"1\" class=\"dataframe\">\n",
       "  <thead>\n",
       "    <tr style=\"text-align: right;\">\n",
       "      <th></th>\n",
       "      <th>hotel_name</th>\n",
       "      <th>room_price</th>\n",
       "    </tr>\n",
       "  </thead>\n",
       "  <tbody>\n",
       "    <tr>\n",
       "      <th>0</th>\n",
       "      <td>Baymont by Wyndham Dallas/ Love Field</td>\n",
       "      <td>$85</td>\n",
       "    </tr>\n",
       "    <tr>\n",
       "      <th>1</th>\n",
       "      <td>Hyatt Regency Dallas</td>\n",
       "      <td>$147</td>\n",
       "    </tr>\n",
       "    <tr>\n",
       "      <th>2</th>\n",
       "      <td>Hampton Inn &amp; Suites Dallas Downtown</td>\n",
       "      <td>$98</td>\n",
       "    </tr>\n",
       "    <tr>\n",
       "      <th>3</th>\n",
       "      <td>Canvas Hotel Dallas</td>\n",
       "      <td>$132</td>\n",
       "    </tr>\n",
       "    <tr>\n",
       "      <th>4</th>\n",
       "      <td>Hotel ZaZa Dallas</td>\n",
       "      <td>$230</td>\n",
       "    </tr>\n",
       "  </tbody>\n",
       "</table>\n",
       "</div>"
      ],
      "text/plain": [
       "                              hotel_name room_price\n",
       "0  Baymont by Wyndham Dallas/ Love Field        $85\n",
       "1                   Hyatt Regency Dallas       $147\n",
       "2   Hampton Inn & Suites Dallas Downtown        $98\n",
       "3                    Canvas Hotel Dallas       $132\n",
       "4                      Hotel ZaZa Dallas       $230"
      ]
     },
     "execution_count": 65,
     "metadata": {},
     "output_type": "execute_result"
    }
   ],
   "source": [
    "hotels_df = pd.DataFrame({'hotel_name': hotels, 'room_price': prices})\n",
    "hotels_df.head()"
   ]
  },
  {
   "cell_type": "code",
   "execution_count": 40,
   "metadata": {},
   "outputs": [],
   "source": [
    "hotels_df.to_csv(\"C:/Users/kapali_s/Documents/SMU/Projects/Project_3/Tripadvisor Data/Data/fileOne2.csv\", index=False, header=True)"
   ]
  }
 ],
 "metadata": {
  "kernelspec": {
   "display_name": "Python 3",
   "language": "python",
   "name": "python3"
  },
  "language_info": {
   "codemirror_mode": {
    "name": "ipython",
    "version": 3
   },
   "file_extension": ".py",
   "mimetype": "text/x-python",
   "name": "python",
   "nbconvert_exporter": "python",
   "pygments_lexer": "ipython3",
   "version": "3.7.1"
  }
 },
 "nbformat": 4,
 "nbformat_minor": 2
}
